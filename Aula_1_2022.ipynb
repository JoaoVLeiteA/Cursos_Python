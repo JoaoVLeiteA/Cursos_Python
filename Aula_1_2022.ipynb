{
  "nbformat": 4,
  "nbformat_minor": 0,
  "metadata": {
    "colab": {
      "provenance": [],
      "collapsed_sections": []
    },
    "kernelspec": {
      "name": "python3",
      "display_name": "Python 3"
    },
    "language_info": {
      "name": "python"
    }
  },
  "cells": [
    {
      "cell_type": "markdown",
      "source": [
        "#PRIMEIRA AULA DE PYTHON"
      ],
      "metadata": {
        "id": "G7CGKoIoKkK_"
      }
    },
    {
      "cell_type": "markdown",
      "source": [
        "##1 - Comando PRINT()\n",
        "O comando print é um comando de saída, ou seja, a partir dele que conseguimos imprimir informações na tela.<br>\n",
        "\n",
        "\n",
        "Este comando é uma método de impressão, portanto, **sempre** que o usarmos, temos que colocar os (). \n",
        "\n",
        "---\n",
        "\n",
        "```\n",
        "print()\n",
        "```\n",
        "---\n",
        "Dentro dos () podemos colocar qualquer tipo de informação que desejamos informar ao usuário.\n",
        "\n"
      ],
      "metadata": {
        "id": "R-eRS5qETtM0"
      }
    },
    {
      "cell_type": "markdown",
      "source": [
        "###1. Fazer um programa que escreve na tela Olá Mundo!\n"
      ],
      "metadata": {
        "id": "CBUQYbpUKspn"
      }
    },
    {
      "cell_type": "code",
      "execution_count": null,
      "metadata": {
        "id": "UpXYQhrjFFoi"
      },
      "outputs": [],
      "source": []
    },
    {
      "cell_type": "markdown",
      "source": [
        "###2. Concatenando informações "
      ],
      "metadata": {
        "id": "xWIysM8vK5P4"
      }
    },
    {
      "cell_type": "code",
      "source": [
        "# Texto e números\n",
        "\n",
        "# Texto com booleano\n",
        "\n",
        "# Textos longos, com mais de uma linha\n",
        "\n",
        "# Imprimir a mensagem \n",
        "#     \"Professor, você é muito legal\"\n",
        "# Mas o muito deve ser repetido 25 vezes.\n"
      ],
      "metadata": {
        "id": "bQ7S58PvK5Z7"
      },
      "execution_count": null,
      "outputs": []
    },
    {
      "cell_type": "markdown",
      "source": [
        "##2 - Tipos de variáveis\n",
        "O Python é uma linguagem de programação dinamicamente tipada, ou seja, não precisamos declarar o tipo da variável na sua criação e podemos alterar o tipo de dado a qualquer momento. Veja o código abaixo:\n",
        "\n",
        "---\n",
        "```\n",
        "a = 10\n",
        "a = \"Texto\"\n",
        "a = True\n",
        "a = ['Batatinha', 'Frita', 1, 2, 3, True]\n",
        "a = {'usuario': \"Joao\",\n",
        "     'idade': 40,\n",
        "     'filhos': True,\n",
        "     }\n",
        "```\n",
        "---\n",
        "O sinal de = significa **recebe**, portanto, a linha ***a = 10*** deve ser lida como ***a recebe 10***"
      ],
      "metadata": {
        "id": "_VQpZnb4NJy_"
      }
    },
    {
      "cell_type": "markdown",
      "source": [
        "###1. Número Inteiro\n",
        "Importante: O Python **não** utiliza separador entre as partes inteiras, ou seja, não vamos escrever 1.000 ou 1,000. Podemos usar o _ para fazer a separação entre as casas de milhar.\n",
        "\n",
        "---\n",
        "```\n",
        "numero_inteiro = 1000000\n",
        "numero_inteiro = 1_000_000\n",
        "```\n",
        "---\n",
        "Nos dois casos apresentados acima, temos o número 1 milhão."
      ],
      "metadata": {
        "id": "jr4afUM0NTqx"
      }
    },
    {
      "cell_type": "code",
      "source": [
        "# Decalarar a Variável Inteira\n",
        "\n",
        "# Imprimir as variáveis na tela (usar .format)\n"
      ],
      "metadata": {
        "id": "DL6BLtuFNhuk"
      },
      "execution_count": null,
      "outputs": []
    },
    {
      "cell_type": "markdown",
      "source": [
        "###2. Números Reais\n",
        "Importante: O Python utiliza o . como separador entre a parte inteira e a parte decimal do número.\n",
        "\n",
        "---\n",
        "```\n",
        "pi = 3.14\n",
        "```\n",
        "---"
      ],
      "metadata": {
        "id": "NOctwMQBQNEY"
      }
    },
    {
      "cell_type": "code",
      "source": [
        "# Declarar a Variável Real\n",
        "\n",
        "# Imprimir as variáveis na tela (usar .format)\n"
      ],
      "metadata": {
        "id": "3qtwh5CsOBB1"
      },
      "execution_count": null,
      "outputs": []
    },
    {
      "cell_type": "markdown",
      "source": [
        "###3. Texto e Comentário\n",
        "Para escrever um texto, podemos utilizar tando aspas simples (' ') quanto aspas duplas (\" \").\n",
        "\n",
        "---\n",
        "```\n",
        "texto_1 = 'Batatinha'\n",
        "texto_2 = \" Frita\"\n",
        "print(texto_1 + texto_2)\n",
        "```\n",
        "---"
      ],
      "metadata": {
        "id": "d6BwgLnYRUA7"
      }
    },
    {
      "cell_type": "code",
      "source": [
        "# Declarar a Variável tipo String\n",
        "\n",
        "# Declarar a Variável tipo Comentário\n",
        "\n",
        "# Imprimir as variáveis na tela (usar .format)\n",
        "\n",
        "# Declarar duas variáveis tipo String\n",
        "\n",
        "# Imprimir as frase em um print()"
      ],
      "metadata": {
        "id": "hmfvJ7WARjB2"
      },
      "execution_count": null,
      "outputs": []
    },
    {
      "cell_type": "markdown",
      "source": [
        "###4. Lógico ou Booleano\n",
        "Este tipo de dado está relacionado com **Verdadeiro** ou **Falso**. Confira o código abaixo:\n",
        "\n",
        "---\n",
        "```\n",
        "logico = True\n",
        "```\n",
        "---"
      ],
      "metadata": {
        "id": "kFp7D9FTSb1f"
      }
    },
    {
      "cell_type": "code",
      "source": [
        "# Declarar a Variável tipo Boolean\n",
        "\n",
        "# Imprimir as variáveis na tela (usar .format)\n"
      ],
      "metadata": {
        "id": "sUqxxe31ScVX"
      },
      "execution_count": null,
      "outputs": []
    },
    {
      "cell_type": "markdown",
      "source": [
        "###Lista\n",
        "Variável que armazena conjunto de informações. As listas **sempre** devem obedecer o mesmo jeito de ser definidas.\n",
        "\n",
        "---\n",
        "```\n",
        "lista = [\"Batatinha\",\"Frita\",1 ,2, 3, True]\n",
        "```\n",
        "---"
      ],
      "metadata": {
        "id": "t48ssv1ES12k"
      }
    },
    {
      "cell_type": "code",
      "source": [
        "# Declarar a Variável tipo Lista\n",
        "\n",
        "# Imprimir as variáveis na tela (usar .format)\n"
      ],
      "metadata": {
        "id": "F2gQQ0NzS7Xk"
      },
      "execution_count": null,
      "outputs": []
    },
    {
      "cell_type": "markdown",
      "source": [
        "###Dicionário\n",
        "Variável que armazena conjunto de informações. Os dicionários funcionam num sistema denominado de chave: valor. Cada chave terá um valor.\n",
        "O valor pode ser qualquer coisa. \n",
        "\n",
        "---\n",
        "```\n",
        "dic = {\"username\": 'jamelao.free',\n",
        "        \"idade\": 40,\n",
        "        \"filho\": True\n",
        "      }\n",
        "```\n",
        "---"
      ],
      "metadata": {
        "id": "DsvIHQK0UDSU"
      }
    },
    {
      "cell_type": "code",
      "source": [
        "# Declarar a Variável tipo Dicionário\n",
        "\n",
        "\n",
        "# Imprimir as variáveis na tela (usar .format)\n"
      ],
      "metadata": {
        "id": "lYlvUcNZUFEE"
      },
      "execution_count": null,
      "outputs": []
    },
    {
      "cell_type": "markdown",
      "source": [
        "##3 - Entrada de dados com INPUT()\n",
        "O método de entrada de dados **imput()** é utilizado quando queremos que o usuário digite alguma informação. \n",
        "\n",
        "Como um método, este comando também precisa ser utilizado com (). Entro dos () devemos colocar o texto que aparecerá ao usuário.<br>\n",
        "\n",
        "#### ***Este texto deverá instruir o usuário a digitar o que o programa espera como entrada.***\n",
        "\n",
        "Este método **sempre** recebe a informação como um texto e, às vezes, para ulitizar esta informação, precisamos converte-la para outro tipo de dado (inteiro ou float). Vamos ver o código abaixo para entender melhor:\n",
        "\n",
        "---\n",
        "```\n",
        "numero = input(\"Entre com um número: \")\n",
        "print(type(numero))\n",
        "numero = int(numero)\n",
        "print(type(numero))\n",
        "```\n",
        "---\n",
        "Neste código podemos verificar que primeiro a informação foi inserida como um texto quando precisamos utilizá-la, fizemos a conversão para um número inteiro."
      ],
      "metadata": {
        "id": "qfeEXqNGUe1m"
      }
    },
    {
      "cell_type": "markdown",
      "source": [
        "###Texto\n"
      ],
      "metadata": {
        "id": "5SVTfMXXUp9c"
      }
    },
    {
      "cell_type": "code",
      "source": [
        "# Declarar variável nome\n",
        "\n",
        "# Imprimir na tela: \"Olá Fulano, tudo bem?\"\n"
      ],
      "metadata": {
        "id": "uOC4w3niUm_N"
      },
      "execution_count": null,
      "outputs": []
    },
    {
      "cell_type": "markdown",
      "source": [
        "###Número Inteiro"
      ],
      "metadata": {
        "id": "YqRE38KrVJ8S"
      }
    },
    {
      "cell_type": "code",
      "source": [
        "# Declarar variável número\n",
        "\n",
        "\n",
        "# Imprimir na tela: \"O número digitado foi \"NÚMERO\"\"\n"
      ],
      "metadata": {
        "id": "yvDlSEqiVM27"
      },
      "execution_count": null,
      "outputs": []
    },
    {
      "cell_type": "markdown",
      "source": [
        "###Número Real\n"
      ],
      "metadata": {
        "id": "6hnHWc-GbllO"
      }
    },
    {
      "cell_type": "code",
      "source": [
        "# Declarar variável número\n",
        "\n",
        "# Imprimir na tela: \"O número digitado foi \"NÚMERO\"\"\n"
      ],
      "metadata": {
        "id": "gSD8xCbbbpg4"
      },
      "execution_count": null,
      "outputs": []
    },
    {
      "cell_type": "markdown",
      "source": [
        "##4 - Operadores Aritméticos\n",
        "São aqueles operadores matemáticos utilizados para fazer as contas mas, em Python, temos alguns especiais."
      ],
      "metadata": {
        "id": "zT5nrG_vb2pu"
      }
    },
    {
      "cell_type": "markdown",
      "source": [
        "###Adição (+)\n",
        "Use o campo abaixo para fazer um programa que realize a soma de dois números inteiros.<br>\n",
        "✅***Usando os métodos input() e print()***"
      ],
      "metadata": {
        "id": "JhJj8EHrdn0J"
      }
    },
    {
      "cell_type": "code",
      "source": [
        "# Declarar a primeira variável:\n",
        "\n",
        "# Declarar a segunda variável:\n",
        "\n",
        "# Fazer a soma da primeira variável com a segunda variável\n",
        "\n",
        "# Imprimir na tela\n"
      ],
      "metadata": {
        "id": "hbBHb7PgfgVR"
      },
      "execution_count": null,
      "outputs": []
    },
    {
      "cell_type": "markdown",
      "source": [
        "###Subtração (-)\n",
        "Use o campo abaixo para fazer um programa que realize a subtração de dois números inteiros.<br>\n",
        "✅***Usando os métodos input() e print()***"
      ],
      "metadata": {
        "id": "_QCZY1Pogpfo"
      }
    },
    {
      "cell_type": "code",
      "source": [
        "# Declarar a primeira variável:\n",
        "\n",
        "# Declarar a segunda variável:\n",
        "\n",
        "# Fazer a subtração da primeira variável com a segunda variável\n",
        "\n",
        "# Imprimir na tela\n"
      ],
      "metadata": {
        "id": "2aP0artggsub"
      },
      "execution_count": null,
      "outputs": []
    },
    {
      "cell_type": "markdown",
      "source": [
        "###Multiplicação (*)\n",
        "Use o campo abaixo para fazer um programa que realize a multiplicação de dois números inteiros.<br>\n",
        "✅***Usando os métodos input() e print()***"
      ],
      "metadata": {
        "id": "NVfJUD3DiD8K"
      }
    },
    {
      "cell_type": "code",
      "source": [
        "# Declarar a primeira variável:\n",
        "\n",
        "# Declarar a segunda variável:\n",
        "\n",
        "# Fazer a multiplicação da primeira variável com a segunda variável\n",
        "\n",
        "# Imprimir na tela\n"
      ],
      "metadata": {
        "id": "DWcKr_t2iIEz"
      },
      "execution_count": null,
      "outputs": []
    },
    {
      "cell_type": "markdown",
      "source": [
        "###Divisão (/)\n",
        "Use o campo abaixo para fazer um programa que realize a divisão de dois números inteiros.<br>\n",
        "✅***Usando os métodos input() e print()***"
      ],
      "metadata": {
        "id": "8XM_F5XGiaoX"
      }
    },
    {
      "cell_type": "code",
      "source": [
        "# Declarar a primeira variável:\n",
        "\n",
        "# Declarar a segunda variável:\n",
        "\n",
        "# Fazer a divisão da primeira variável com a segunda variável\n",
        "\n",
        "# Imprimir na tela\n"
      ],
      "metadata": {
        "id": "-VyxZGtGihQj"
      },
      "execution_count": null,
      "outputs": []
    },
    {
      "cell_type": "markdown",
      "source": [
        "###Módulo (%) -> resto de uma divisão\n",
        "Use o campo abaixo para fazer um programa que mostre o resto da divisão de dois números inteiros.<br>\n",
        "✅***Usando os métodos input() e print()***"
      ],
      "metadata": {
        "id": "WU2QYuI1i4uc"
      }
    },
    {
      "cell_type": "code",
      "source": [
        "# Declarar a primeira variável:\n",
        "\n",
        "# Declarar a segunda variável:\n",
        "\n",
        "# Fazer o módulo da primeira variável com a segunda variável\n",
        "\n",
        "# Imprimir na tela\n"
      ],
      "metadata": {
        "id": "88b_yoRqi8Hx"
      },
      "execution_count": null,
      "outputs": []
    },
    {
      "cell_type": "markdown",
      "source": [
        "###Exponenciação (**)\n",
        "Use o campo abaixo para fazer um programa que faça a exponenciação de dois números inteiros.<br>\n",
        "✅***Usando os métodos input() e print()***"
      ],
      "metadata": {
        "id": "fvjp9Xh6jLxN"
      }
    },
    {
      "cell_type": "code",
      "source": [
        "# Declarar a primeira variável:\n",
        "\n",
        "# Declarar a segunda variável:\n",
        "\n",
        "# Fazer a exponenciação da primeira variável com a segunda variável\n",
        "\n",
        "# Imprimir na tela\n"
      ],
      "metadata": {
        "id": "aWBasVBCjaUD"
      },
      "execution_count": null,
      "outputs": []
    },
    {
      "cell_type": "markdown",
      "source": [
        "###Divisão Inteira (//)\n",
        "Use o campo abaixo para fazer um programa que faça a divisão inteira de dois números inteiros.<br>\n",
        "✅***Usando os métodos input() e print()***"
      ],
      "metadata": {
        "id": "wOLhiGgQjy3H"
      }
    },
    {
      "cell_type": "code",
      "source": [
        "# Declarar a primeira variável:\n",
        "\n",
        "# Declarar a segunda variável:\n",
        "\n",
        "# Fazer a divisão inteira da primeira variável com a segunda variável\n",
        "\n",
        "# Imprimir na tela\n"
      ],
      "metadata": {
        "id": "BQ9foVbcj3mA"
      },
      "execution_count": null,
      "outputs": []
    },
    {
      "cell_type": "markdown",
      "source": [
        "##5 - Exercícios"
      ],
      "metadata": {
        "id": "uD8VHCytkM8b"
      }
    },
    {
      "cell_type": "markdown",
      "source": [
        "###Fazer programa que converte a velocidade de m/s para km/h. Dado: velocidade(m/s) = velocidade(km/h) * 3.6"
      ],
      "metadata": {
        "id": "13pbhHVMkRV6"
      }
    },
    {
      "cell_type": "code",
      "source": [
        "# Declaração da variável velocidade\n",
        "\n",
        "# Conversão da velocidade\n",
        "\n",
        "# Imprimir na tela a velocidade convertida\n"
      ],
      "metadata": {
        "id": "-WWdWzpikPZA"
      },
      "execution_count": null,
      "outputs": []
    },
    {
      "cell_type": "markdown",
      "source": [
        "###Fazer um programa em que o usuário digita o raio de um circunferência e o programa imprime na tela o seu comprimento."
      ],
      "metadata": {
        "id": "CNg2PQVQk4CI"
      }
    },
    {
      "cell_type": "code",
      "source": [
        "# Importação da biblioteca math\n",
        "\n",
        "# Declaração da variável\n",
        "\n",
        "# Calcular o comprimento\n",
        "\n",
        "# Imprimir na tela\n"
      ],
      "metadata": {
        "id": "uuURP0ThlMu9"
      },
      "execution_count": null,
      "outputs": []
    },
    {
      "cell_type": "markdown",
      "source": [
        "###Fazer um programa em qeue o usuário entra com um número e o programa imprime na tela seu antecessor e seu sucessor."
      ],
      "metadata": {
        "id": "9b10ty1Nl6Yh"
      }
    },
    {
      "cell_type": "code",
      "source": [
        "# Declaração da variável\n",
        "\n",
        "# Calcular o antecessor\n",
        "\n",
        "# Calcular o sucessor\n",
        "\n",
        "# Imprimir na tela\n"
      ],
      "metadata": {
        "id": "QuQ1WrpcnTVU"
      },
      "execution_count": null,
      "outputs": []
    },
    {
      "cell_type": "markdown",
      "source": [
        "###Fazer um programa em que o usuário entra com o ano de seu nascimento e o programa imprime na tela ssua idade."
      ],
      "metadata": {
        "id": "C2hwNQwSn5VO"
      }
    },
    {
      "cell_type": "code",
      "source": [
        "# Declaração da variável\n",
        "\n",
        "# Calcular aniversário\n",
        "\n",
        "# Imprimir na tela o aniversário\n"
      ],
      "metadata": {
        "id": "CSNpL6jToER_"
      },
      "execution_count": null,
      "outputs": []
    }
  ]
}