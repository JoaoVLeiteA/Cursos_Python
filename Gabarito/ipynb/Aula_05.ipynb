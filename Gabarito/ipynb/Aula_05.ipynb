{
  "nbformat": 4,
  "nbformat_minor": 0,
  "metadata": {
    "colab": {
      "provenance": []
    },
    "kernelspec": {
      "name": "python3",
      "display_name": "Python 3"
    },
    "language_info": {
      "name": "python"
    }
  },
  "cells": [
    {
      "cell_type": "markdown",
      "source": [
        "#Listas\n",
        "Vetores, conjunto de valores que são alocados em uma única variável.<br>\n",
        "**IMPORTANTE:** Listas são definidas pelos [ ]\n",
        "\n",
        "---\n",
        "```\n",
        "lista1 = ['String', 1,2,3, True, 2.311, ['batatinha', 'frita', 123]]\n",
        "```\n",
        "---"
      ],
      "metadata": {
        "id": "sDinUOUYlRbI"
      }
    },
    {
      "cell_type": "code",
      "execution_count": null,
      "metadata": {
        "id": "P8iRgwoclCxN"
      },
      "outputs": [],
      "source": [
        "\n",
        "#          0      1      2      3      4      5      6      7      8      9     10     11\n",
        "meses = ['jan', 'fev', 'mar', 'abr', 'mai', 'jun', 'jul', 'ago', 'set', 'out', 'nov', 'dez']\n",
        "meses[1:6] # O último número é exclusivo e o primeiro é inclusivo\n"
      ]
    },
    {
      "cell_type": "markdown",
      "source": [
        "## Random\n",
        "Biblioteca para criar números aleatórios.\n",
        "### Randint\n",
        "Comando para criar números inteiros aleatórios.\n",
        "Neste comando tanto a quanto b são incluídos no range.\n",
        "\n",
        "---\n",
        "```\n",
        "numero = randint(a,b)\n",
        "```\n",
        "---\n",
        "\n",
        "## Append()\n",
        "Este método ou função serve para adicionarmos valores a lista<br>\n",
        "O append adiciona apenas 1 elemento por vez\n",
        "\n",
        "---\n",
        "```\n",
        "lista.append('elemento a ser adicionado')\n",
        "```\n",
        "---"
      ],
      "metadata": {
        "id": "A9WDAbOTrhxz"
      }
    },
    {
      "cell_type": "code",
      "source": [
        "from random import randint\n",
        "\n",
        "numeros = []\n",
        "\n",
        "for i in range(101):\n",
        "    numeros.append(randint(0,100))\n",
        "\n",
        "print(numeros)"
      ],
      "metadata": {
        "colab": {
          "base_uri": "https://localhost:8080/"
        },
        "id": "Phji1ZRjmwlC",
        "outputId": "932e6f66-73e9-4f3d-fbf2-6a98ced2f563"
      },
      "execution_count": 81,
      "outputs": [
        {
          "output_type": "stream",
          "name": "stdout",
          "text": [
            "[6, 0, 25, 78, 5, 24, 100, 21, 34, 78, 20, 46, 78, 79, 86, 23, 3, 40, 74, 57, 82, 1, 23, 55, 90, 82, 63, 33, 100, 36, 46, 51, 66, 23, 74, 44, 46, 59, 78, 75, 85, 71, 48, 98, 1, 22, 46, 45, 93, 5, 98, 94, 79, 0, 75, 60, 64, 12, 2, 100, 89, 76, 32, 35, 94, 42, 67, 95, 82, 56, 26, 84, 12, 68, 100, 38, 70, 77, 13, 55, 43, 36, 84, 24, 9, 56, 10, 3, 3, 15, 87, 70, 91, 14, 54, 23, 53, 10, 61, 0, 82]\n"
          ]
        }
      ]
    },
    {
      "cell_type": "markdown",
      "source": [
        "##Count()\n",
        "Este método irá contar quantas ocorrências temos de um determinado elemento.\n",
        "\n",
        "##len()\n",
        "Contar quantos elementos temos em uma lista.<br>\n",
        "Método para saber o comprimento de uma lista."
      ],
      "metadata": {
        "id": "WIHZ9v4xsaKU"
      }
    },
    {
      "cell_type": "code",
      "source": [
        "for i in range(len(numeros)):\n",
        "    print(numeros.count(i))"
      ],
      "metadata": {
        "id": "yjGUWvOfrcYn"
      },
      "execution_count": null,
      "outputs": []
    },
    {
      "cell_type": "markdown",
      "source": [
        "## Para juntar mais de uma lista\n",
        "### Concatenação de listas\n",
        "União dos elementos de diversas listas\n",
        "\n",
        "---\n",
        "```\n",
        "lista1 =[1,2,3]\n",
        "lista2 =[4,5,6]\n",
        "lista3 = lista1 + lista2\n",
        "```\n",
        "---\n",
        "\n",
        "### Extend()\n",
        "Permite a inlcusão de mais de um elemento a uma lista\n",
        "\n",
        "---\n",
        "```\n",
        "lista1 =[1,2,3]\n",
        "lista2 =[4,5,6]\n",
        "lista1.extend(lista2)\n",
        "```\n",
        "---"
      ],
      "metadata": {
        "id": "-NkzSnqouHAx"
      }
    },
    {
      "cell_type": "code",
      "source": [
        "lista1 =[1,2,3]\n",
        "lista2 =[4,5,6]\n",
        "lista3 = lista1 + lista2\n",
        "print(lista3)"
      ],
      "metadata": {
        "colab": {
          "base_uri": "https://localhost:8080/"
        },
        "id": "0o3VglyiuGJ5",
        "outputId": "a7682ce1-e4fb-4e7d-ca6c-237bd98e4c8f"
      },
      "execution_count": 36,
      "outputs": [
        {
          "output_type": "stream",
          "name": "stdout",
          "text": [
            "[1, 2, 3, 4, 5, 6]\n"
          ]
        }
      ]
    },
    {
      "cell_type": "code",
      "source": [
        "lista1 =[1,2,3]\n",
        "lista2 =[4,5,6]\n",
        "lista1.extend(lista2)\n",
        "print(lista1)"
      ],
      "metadata": {
        "colab": {
          "base_uri": "https://localhost:8080/"
        },
        "id": "gXodpfkrsvDV",
        "outputId": "f4b02825-caeb-4059-f187-c1da67981d1d"
      },
      "execution_count": 38,
      "outputs": [
        {
          "output_type": "stream",
          "name": "stdout",
          "text": [
            "[1, 2, 3, 4, 5, 6]\n"
          ]
        }
      ]
    },
    {
      "cell_type": "markdown",
      "source": [
        "## Sort()\n",
        "Ordenamento da lista\n",
        "\n",
        "---\n",
        "```\n",
        "lista.sort() -> Ordem crescente\n",
        "lista.sort(reverse=True) -> Ordem Decrescente\n",
        "```\n",
        "---"
      ],
      "metadata": {
        "id": "Nuz0UJyPvJu0"
      }
    },
    {
      "cell_type": "code",
      "source": [
        "print(numeros)\n",
        "\n",
        "numeros.sort()\n",
        "#numeros.sort(reverse = True)"
      ],
      "metadata": {
        "id": "a1M8smmivben"
      },
      "execution_count": null,
      "outputs": []
    },
    {
      "cell_type": "markdown",
      "source": [
        "##Tabela ASCII\n",
        "###ord\n",
        "Comando que converte um caractere em seu número de referência na tabela ASCII\n",
        "###chr\n",
        "converte um número intiro em seu caractere correspondente na tabela ASCII"
      ],
      "metadata": {
        "id": "kcLBnZWCwHOh"
      }
    },
    {
      "cell_type": "code",
      "source": [
        "for i in range(200):\n",
        "    print(chr(i))"
      ],
      "metadata": {
        "id": "tcaOMNBKwGb2"
      },
      "execution_count": null,
      "outputs": []
    },
    {
      "cell_type": "markdown",
      "source": [
        "### Exercício 1:\n",
        "Criar uma lista com todas as letras minúsculas do alfabeto."
      ],
      "metadata": {
        "id": "1MAyyAzzxWRk"
      }
    },
    {
      "cell_type": "code",
      "source": [
        "# Criar uma lista chamada alfabeto\n",
        "alfabeto = []\n",
        "# Frazer um laço de repetição números entre 97 e 123\n",
        "for i in range(97, 123):\n",
        "    # Adicionando cada elemento criado à lista \n",
        "    alfabeto.append(chr(i))\n",
        "# Printando a lista na tela\n",
        "print(alfabeto)"
      ],
      "metadata": {
        "id": "QQqixQV8xcdX"
      },
      "execution_count": null,
      "outputs": []
    },
    {
      "cell_type": "markdown",
      "source": [
        "### Exercício 2\n",
        "Transcrever a mensagem do usuário de letras para números."
      ],
      "metadata": {
        "id": "jd6okBrR18M1"
      }
    },
    {
      "cell_type": "code",
      "source": [
        "entrada = list(input(\"Mensagem: \"))\n",
        "chave = int(input(\"Entre com a chave de conversão: \"))\n",
        "saida = \"\"\n",
        "\n",
        "for letra in entrada:\n",
        "    num = ord(letra)\n",
        "    # Verificar SE o número inteiro está entre 97 e 122.\n",
        "    if num >= 97 and num <= 122:\n",
        "        # Se tiver: append na lista da saída do número + 3\n",
        "        num += chave\n",
        "        if num > 122:\n",
        "            num -= 26\n",
        "        saida += chr(num)\n",
        "        # Se não tiver: append do número na lista\n",
        "    else:\n",
        "        saida += chr(num)\n",
        "\n",
        "# Printando a saída\n",
        "print(saida)"
      ],
      "metadata": {
        "colab": {
          "base_uri": "https://localhost:8080/"
        },
        "id": "SenHcnpB1joM",
        "outputId": "060f42d7-3c5c-4cd7-e23d-7ca477f43ab7"
      },
      "execution_count": 65,
      "outputs": [
        {
          "output_type": "stream",
          "name": "stdout",
          "text": [
            "Mensagem: testando conversao\n",
            "Entre com a chave de conversão: 3\n",
            "whvwdqgr frqyhuvdr\n"
          ]
        }
      ]
    },
    {
      "cell_type": "markdown",
      "source": [
        "# SET\n",
        "Set é uma coleção de elementos sem repetição.<br>\n",
        "Para criar um set, podemos:<br>\n",
        "**IMPORTANTE:** O set é definido utilizando { }\n",
        "---\n",
        "```\n",
        "set_lista = set(lista)\n",
        "s = {1,2,2,3,3,3,3,3,5,5,8,8}\n",
        "print(s)\n",
        "type(s)\n",
        "```\n",
        "---\n"
      ],
      "metadata": {
        "id": "XK9QgePq8iXl"
      }
    },
    {
      "cell_type": "code",
      "source": [
        "s = {1,2,2,3,3,3,3,3,5,5,8,8}\n",
        "print(s)\n",
        "type(s)\n",
        "\n",
        "print(numeros)\n",
        "s = set(numeros)\n",
        "print(s)\n",
        "print(\"A lista tem {} e o set tem {}\".format(len(numeros), len(s)))\n",
        "print(f'A lista tem {len(numeros)} e o set tem {len(s)}')"
      ],
      "metadata": {
        "id": "8LXo6POZ4JpL"
      },
      "execution_count": null,
      "outputs": []
    },
    {
      "cell_type": "markdown",
      "source": [
        "#Tupla\n",
        "Lista de elementos não iterável. ou seja, não é possível incluir ou excluir elementos dela.\n",
        "**IMPORTANTE:** Tupla é definida utilizando ( )\n",
        "\n",
        "---\n",
        "```\n",
        "tupla = (1,5,4,3,8)\n",
        "```\n",
        "---\n"
      ],
      "metadata": {
        "id": "YZ9UZTW79G0p"
      }
    },
    {
      "cell_type": "code",
      "source": [
        "tupla = (1,5,4,3,8)\n",
        "tupla = tuple(numeros)\n",
        "print(tupla.count(0))\n",
        "print(tupla[3:15])\n",
        "lista = list(tupla[3:35])\n",
        "print(lista)"
      ],
      "metadata": {
        "id": "8l4b5GpGCGqc"
      },
      "execution_count": null,
      "outputs": []
    },
    {
      "cell_type": "code",
      "source": [
        "numeros.pop(5)\n",
        "print(len(numeros))\n",
        "print(len(tupla))"
      ],
      "metadata": {
        "colab": {
          "base_uri": "https://localhost:8080/"
        },
        "id": "E4R91CltCm8C",
        "outputId": "01f00147-e2fd-498a-b785-c1e2916eccd1"
      },
      "execution_count": 96,
      "outputs": [
        {
          "output_type": "stream",
          "name": "stdout",
          "text": [
            "94\n",
            "95\n"
          ]
        }
      ]
    },
    {
      "cell_type": "markdown",
      "source": [
        "#Dicionário\n",
        "Conjunto de valores que utilizam o padrão de chave/valor.<br>\n",
        "**IMPORTANTE:** Definimos dicionários utilizando { }\n",
        "\n",
        "---\n",
        "```\n",
        "dicionario = {\n",
        "    'chave': 'valor',\n",
        "        1  :    2   ,\n",
        "    'joao' : True\n",
        "}\n",
        "```\n",
        "---"
      ],
      "metadata": {
        "id": "6exDw5lx9emB"
      }
    },
    {
      "cell_type": "code",
      "source": [
        "receita = {\n",
        "    'jan': 100,\n",
        "    'fev': 120,\n",
        "    'mar': 100\n",
        "}\n",
        "\n",
        "receita['abr'] = 300\n",
        "novo_elemento = {'mai': 250}\n",
        "receita.update(novo_elemento)\n",
        "\n",
        "for chave,valor in receita.items():\n",
        "    print(f'{chave} : {valor}')"
      ],
      "metadata": {
        "id": "x2O25QX39d5b"
      },
      "execution_count": null,
      "outputs": []
    },
    {
      "cell_type": "code",
      "source": [
        "# Criar o dicionário com o banco de dados:\n",
        "banco_dados = {\n",
        "    'joao': '123',\n",
        "    'felipe': '456',\n",
        "    'miguel' : '789'\n",
        "    }\n",
        "# Criar a entrada do usuário com login e senha:\n",
        "username = input(\"Login: \").casefold()\n",
        "password = input(\"Senha: \").casefold()\n",
        "# Fazer a varredura do dicionário pegando login e senha\n",
        "for login, senha in banco_dados.items():\n",
        "    # Se login = entrada de login e senha = entrada de senha...\n",
        "    if login == username and senha == password:\n",
        "        print(f'Bem-vindo {login}')\n",
        "        break\n",
        "    # Senão...\n",
        "        print('Usuário ou senha inválidos')\n",
        "        break"
      ],
      "metadata": {
        "id": "fi1KeY1VEZLj"
      },
      "execution_count": null,
      "outputs": []
    },
    {
      "cell_type": "code",
      "source": [
        "nomes = [\"Joao\", \"Felipe\", \"Miguel\", \"Amanda\"]\n",
        "salario = [2000, 3000, 1500, 7000]\n",
        "dicionario = {}\n",
        "\n",
        "for i in range(len(nomes)):\n",
        "    dicionario[nomes[i]] = salario[i]\n",
        "\n",
        "print(dicionario)\n",
        "\n",
        "gravado = (dicionario,)\n",
        "print(gravado)"
      ],
      "metadata": {
        "id": "Xer6Yr83JSwI"
      },
      "execution_count": null,
      "outputs": []
    }
  ]
}