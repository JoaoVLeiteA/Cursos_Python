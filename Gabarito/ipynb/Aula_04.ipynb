{
  "nbformat": 4,
  "nbformat_minor": 0,
  "metadata": {
    "colab": {
      "provenance": []
    },
    "kernelspec": {
      "name": "python3",
      "display_name": "Python 3"
    },
    "language_info": {
      "name": "python"
    }
  },
  "cells": [
    {
      "cell_type": "markdown",
      "source": [
        "#Laços de Repetição"
      ],
      "metadata": {
        "id": "wdplEi6H6-Ck"
      }
    },
    {
      "cell_type": "markdown",
      "source": [
        "##1.Comando While\n",
        "Comando **WHILE** é utilizado para criarmos laços de repetição no código.\n",
        "Ou seja,<br>\n",
        "\n",
        "\n",
        "\n",
        "![Enquanti.png](data:image/png;base64,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)"
      ],
      "metadata": {
        "id": "jubVi8qX7CQY"
      }
    },
    {
      "cell_type": "markdown",
      "source": [
        "### Como usar?\n",
        "**Laço de repetição definido:**\n",
        "\n",
        "---\n",
        "```\n",
        "i = 6\n",
        "while i < 6:\n",
        "    print(i)\n",
        "    i += 1\n",
        "```\n",
        "---\n",
        "\n",
        "**Laço de repetição indefinido:**\n",
        "\n",
        "---\n",
        "```\n",
        "i = 0\n",
        "while True:\n",
        "    print('Estou preso')\n",
        "    i +=1\n",
        "    if i == 6:\n",
        "        break\n",
        "```\n",
        "---\n",
        "\n",
        "Caso não usar o break, o programa entrará em um looping infinito, ocupando espaço na memória até o programa travar."
      ],
      "metadata": {
        "id": "sNE3eGypPT7h"
      }
    },
    {
      "cell_type": "code",
      "source": [
        "# Testar os códigos acima aqui.\n",
        "i = 0\n",
        "while i < 6:\n",
        "    print(\"Estou preso no laço de repetição\")\n",
        "    i += 1"
      ],
      "metadata": {
        "id": "ADmgLazkRviq"
      },
      "execution_count": null,
      "outputs": []
    },
    {
      "cell_type": "markdown",
      "source": [
        "###Exercícios"
      ],
      "metadata": {
        "id": "9gLiA8kwRXlv"
      }
    },
    {
      "cell_type": "markdown",
      "source": [
        "Faça um programa que peça verifica se o usuário digitou um número inteiro. <br>Caso tenha digitado, mostrar o número na tela.<br> Caso não tenha digitado, pedir para o usuário digitar novamente."
      ],
      "metadata": {
        "id": "OmYd0OwkRunz"
      }
    },
    {
      "cell_type": "code",
      "execution_count": null,
      "metadata": {
        "id": "75Vs3BDj62Qv"
      },
      "outputs": [],
      "source": [
        "while True:\n",
        "    numero = input(\"Digite um numero inteiro: \")\n",
        "    if numero.isnumeric():\n",
        "        print(\"Você digitou {}.\".format(numero))\n",
        "        break\n",
        "    else:\n",
        "        print(\"Entrada Inválida\")"
      ]
    },
    {
      "cell_type": "markdown",
      "source": [
        "Faça um programa de verificação de login e senha. O usuário pode errar a senha até 3 vezes antes do programa terminar informando que o acesso foi bloqueado."
      ],
      "metadata": {
        "id": "7JFuveiySxIe"
      }
    },
    {
      "cell_type": "code",
      "source": [
        "login = \"joao\"\n",
        "senha = '123'\n",
        "contador = 0\n",
        "\n",
        "while True:\n",
        "    contador += 1\n",
        "    username = input(\"Login: \").strip()\n",
        "    password = input(\"Senha: \").strip()\n",
        "    if login == username and senha == password:\n",
        "        print(\"Acesso liberado\")\n",
        "        break\n",
        "    else:\n",
        "        if contador <= 2:\n",
        "            print(\"Login e/ou senha inválidos\")\n",
        "        else:\n",
        "            print(\"Acesso bloqueado\")\n",
        "            break"
      ],
      "metadata": {
        "id": "sMD6DmX4TETd"
      },
      "execution_count": null,
      "outputs": []
    },
    {
      "cell_type": "markdown",
      "source": [
        "Desenvolva um gerador de tabuada, capaz de gerar a tabuada de qualquer número inteiro entre 1 a 10. O usuário deve informar de qual numero ele deseja ver a tabuada. A saída deve ser conforme o exemplo abaixo:<br>\n",
        "Tabuada de 5:<br>\n",
        "5 X 1 = 5<br>\n",
        "5 X 2 = 10<br>\n",
        "...<br>\n",
        "5 X 10 = 50<br>"
      ],
      "metadata": {
        "id": "00-Li7g0UVdu"
      }
    },
    {
      "cell_type": "code",
      "source": [
        "numero = int(input(\"Entre com um número: \"))\n",
        "contador = 1\n",
        "print(\"Tabuada de {}\".format(numero))\n",
        "while contador <= 10:\n",
        "    print(\"{} X {} = {}\".format(numero, contador, numero * contador))\n",
        "    contador += 1"
      ],
      "metadata": {
        "id": "0xtYsdctUq2X"
      },
      "execution_count": null,
      "outputs": []
    },
    {
      "cell_type": "markdown",
      "source": [
        "Desenvolva uma calculadora de fatorial em que o usuário digita o número e o programa retorna seu fatorial. Exemplo de saída esperada: <br>\n",
        "4! = 24<br>\n",
        "<br> **Faça uma verificação se o usuário realmente digitou alguma coisa.**"
      ],
      "metadata": {
        "id": "bA07cTSBUsas"
      }
    },
    {
      "cell_type": "code",
      "source": [
        "numero = input(\"Entre com um número: \")\n",
        "fatorial = 1\n",
        "if numero:\n",
        "    num = int(numero)\n",
        "    while num > 1:\n",
        "        fatorial *= num\n",
        "        num -= 1\n",
        "    print(\"{}! = {}\".format(numero, fatorial))\n",
        "else:\n",
        "    print(\"Não digitou nada\")"
      ],
      "metadata": {
        "id": "adNy-eLrVfPw"
      },
      "execution_count": null,
      "outputs": []
    },
    {
      "cell_type": "markdown",
      "source": [
        "##2.Comando For\n",
        "O comando **FOR** também é utilizado para fazer lógica de laços de repetição<br>\n",
        "![For.png](data:image/png;base64,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)"
      ],
      "metadata": {
        "id": "cE_48GRwkGhT"
      }
    },
    {
      "cell_type": "markdown",
      "source": [
        "**Primeiro jeito de fazer for**\n",
        "\n",
        "---\n",
        "```\n",
        "for contador in range(início, parada, incremento):\n",
        "    print(contador)\n",
        "```\n",
        "---"
      ],
      "metadata": {
        "id": "0mGjtM5foS0j"
      }
    },
    {
      "cell_type": "code",
      "source": [
        "num = int(input(\"Numero: \"))\n",
        "fatorial = 1\n",
        "for contador in range(num,1,-1):\n",
        "    fatorial *= contador    \n",
        "\n",
        "print(\"{}! = {}\".format(num, fatorial))"
      ],
      "metadata": {
        "id": "vCeraacqkH24"
      },
      "execution_count": null,
      "outputs": []
    },
    {
      "cell_type": "markdown",
      "source": [
        "**Segundo jeito de fazer for**\n",
        "\n",
        "---\n",
        "```\n",
        "lista = [1, 2, 3, 4]\n",
        "for contador in lista:\n",
        "    print(contador)\n",
        "```\n",
        "---"
      ],
      "metadata": {
        "id": "CJkMrFNxpWMX"
      }
    },
    {
      "cell_type": "code",
      "source": [
        "lista = [1, 2, 3, 4]\n",
        "for numero in lista:\n",
        "    print(numero)"
      ],
      "metadata": {
        "id": "-IWB9wv0p3y7"
      },
      "execution_count": null,
      "outputs": []
    },
    {
      "cell_type": "markdown",
      "source": [
        "Considere a lista a seguir como a quantidade de itens vendidos por cada vendedor de uma loja.<br>\n",
        "vendas = [100, 150, 1500, 2000, 120]<br>\n",
        "Caso o vendedor tenha vendido mais de 1000 unidades, ele ganha um bônus de 15% sobre seu salário.<br>\n",
        "Fazer um programa que informa quem conseguiu o bônus.\n"
      ],
      "metadata": {
        "id": "_J6u0mry5pPd"
      }
    },
    {
      "cell_type": "code",
      "source": [
        "vendas = [100, 150, 1500, 2000, 120]\n",
        "vendedores = ['João', 'Felipe', 'Miguel', 'Leandro', 'Vitória']\n",
        "\n",
        "for venda in vendas:\n",
        "    if venda < 1000:\n",
        "        continue\n",
        "    else:\n",
        "        indice = vendas.index(venda)\n",
        "        print(\"{} bateu a meta e ganhou o bônus\".format(vendedores[indice]))"
      ],
      "metadata": {
        "id": "Rn8W-KePp-mf"
      },
      "execution_count": null,
      "outputs": []
    },
    {
      "cell_type": "markdown",
      "source": [
        "Crie um programa que apagará todos os espaços de um texto."
      ],
      "metadata": {
        "id": "Fw0unxm77Jxg"
      }
    },
    {
      "cell_type": "code",
      "source": [
        "mensagem = input(\"Mensagem: \")\n",
        "for letra in mensagem:\n",
        "    if letra == \" \":\n",
        "        continue\n",
        "    else:\n",
        "        print(letra, end = '')"
      ],
      "metadata": {
        "colab": {
          "base_uri": "https://localhost:8080/"
        },
        "id": "hw8jalSr7Tmj",
        "outputId": "5398905a-c8fc-42d9-a104-a9162c464a4a"
      },
      "execution_count": null,
      "outputs": [
        {
          "output_type": "stream",
          "name": "stdout",
          "text": [
            "Mensagem: Abacate só é bom com açúcar\n",
            "Abacatesóébomcomaçúcar"
          ]
        }
      ]
    }
  ]
}