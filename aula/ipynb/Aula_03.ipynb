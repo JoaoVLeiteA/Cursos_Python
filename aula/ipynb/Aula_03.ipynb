{
  "nbformat": 4,
  "nbformat_minor": 0,
  "metadata": {
    "colab": {
      "provenance": []
    },
    "kernelspec": {
      "name": "python3",
      "display_name": "Python 3"
    },
    "language_info": {
      "name": "python"
    }
  },
  "cells": [
    {
      "cell_type": "markdown",
      "source": [
        "2.\tSabendo que a = 3, b = 7 e c = 4, informe se as expressões abaixo são verdadeiras ou falsas:\n",
        ">a.\t(a + c) > b<br>\n",
        ">b.\tb > = (a + 2)<br>\n",
        ">c.\tc == (b – a)<br>\n",
        ">d.\t(b + a) < = c<br>\n",
        ">e.\t(c + a) > b<br>\n"
      ],
      "metadata": {
        "id": "TCFDyU5FgwXM"
      }
    },
    {
      "cell_type": "code",
      "execution_count": null,
      "metadata": {
        "colab": {
          "base_uri": "https://localhost:8080/"
        },
        "id": "ONmoR9Z-gpM2",
        "outputId": "3870a475-d9d0-470c-9f7e-cef5eee20a9f"
      },
      "outputs": [
        {
          "output_type": "stream",
          "name": "stdout",
          "text": [
           
          ]
        }
      ],
      "source": [

      ]
    },
    {
      "cell_type": "markdown",
      "source": [
        "3.\tSabendo que a = 5, b = 4, c = 3 e d = 6, informe se as expressões abaixo são verdadeiras ou falsas:\n",
        ">a.\t(a > c) AND (c <= d)<br>\n",
        ">b.\t(a + b) > 10 OR (a + b) == (c + d)<br>\n",
        ">c.\t(a >= c) AND (d >= c)\n"
      ],
      "metadata": {
        "id": "-Vl3yykPmdPG"
      }
    },
    {
      "cell_type": "code",
      "source": [
       
      ],
      "metadata": {
        "id": "_yD2wwvNmj67"
      },
      "execution_count": null,
      "outputs": []
    },
    {
      "cell_type": "markdown",
      "source": [
        "Vamos a um caso mais real...<br>\n",
        "Meta de vendas: 50.000 unidades.<br>\n",
        "Usuário vai informar quantas unidades do produto foram vendidas.<br>\n",
        ">1. Se a meta não for atingida, o programa deverá informar que a meta não foi atingida e ninguém recebe bonus.<br>\n",
        ">2. Se a meta for atingida com menos de 500 unidades de diferença, o programa informa que a meta foi atingida e que os vendedores ganharão 5% de bonus.<br>\n",
        ">3. Se a meta for ultrapassada em mais de 500 unidades, os vendedores receberão bonus de 15%. "
      ],
      "metadata": {
        "id": "U-x7ba8gph0r"
      }
    },
    {
      "cell_type": "code",
      "source": [
       
      ],
      "metadata": {
        "id": "umFgrJuJrYwI"
      },
      "execution_count": null,
      "outputs": []
    },
    {
      "cell_type": "markdown",
      "source": [
        "Uma loja possui 2 produtos: caixa de som e caneca.<br>\n",
        "A caixa de som custa R\\$ 150,00 e caneca custa R\\$ 30,00. <br>\n",
        "Os custos fixos da loja são de R\\$ 2100.<br>\n",
        "Calcule o faturamento desta loja e se obteve lucro ou prejuízo. O usuário irá informar quantas canecas e quantas caixas de som foram vendidas no período.\n",
        " "
      ],
      "metadata": {
        "id": "1yjdbx7my0nI"
      }
    },
    {
      "cell_type": "code",
      "source": [
        
      ],
      "metadata": {
        "id": "_GZEg7A3vqbD"
      },
      "execution_count": null,
      "outputs": []
    },
    {
      "cell_type": "code",
      "source": [

      ],
      "metadata": {
        "colab": {
          "base_uri": "https://localhost:8080/"
        },
        "id": "R62PDBOG_3or",
        "outputId": "34bb1cf8-42e3-42fb-9169-dba9a57a8e72"
      },
      "execution_count": null,
      "outputs": [
        {
          "output_type": "stream",
          "name": "stdout",
          "text": [
          ]
        }
      ]
    }
  ]
}
