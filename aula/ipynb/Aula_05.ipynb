{
  "nbformat": 4,
  "nbformat_minor": 0,
  "metadata": {
    "colab": {
      "provenance": []
    },
    "kernelspec": {
      "name": "python3",
      "display_name": "Python 3"
    },
    "language_info": {
      "name": "python"
    }
  },
  "cells": [
    {
      "cell_type": "markdown",
      "source": [
        "#Listas\n",
        "Vetores, conjunto de valores que são alocados em uma única variável.<br>\n",
        "**IMPORTANTE:** Listas são definidas pelos [ ]\n",
        "\n",
        "---\n",
        "```\n",
        "lista1 = ['String', 1,2,3, True, 2.311, ['batatinha', 'frita', 123]]\n",
        "```\n",
        "---"
      ],
      "metadata": {
        "id": "sDinUOUYlRbI"
      }
    },
    {
      "cell_type": "code",
      "execution_count": null,
      "metadata": {
        "id": "P8iRgwoclCxN"
      },
      "outputs": [],
      "source": [
      ]
    },
    {
      "cell_type": "markdown",
      "source": [
        "## Random\n",
        "Biblioteca para criar números aleatórios.\n",
        "### Randint\n",
        "Comando para criar números inteiros aleatórios.\n",
        "Neste comando tanto a quanto b são incluídos no range.\n",
        "\n",
        "---\n",
        "```\n",
        "numero = randint(a,b)\n",
        "```\n",
        "---\n",
        "\n",
        "## Append()\n",
        "Este método ou função serve para adicionarmos valores a lista<br>\n",
        "O append adiciona apenas 1 elemento por vez\n",
        "\n",
        "---\n",
        "```\n",
        "lista.append('elemento a ser adicionado')\n",
        "```\n",
        "---"
      ],
      "metadata": {
        "id": "A9WDAbOTrhxz"
      }
    },
    {
      "cell_type": "code",
      "source": [
      ],
      "metadata": {
        "colab": {
          "base_uri": "https://localhost:8080/"
        },
        "id": "Phji1ZRjmwlC",
        "outputId": "932e6f66-73e9-4f3d-fbf2-6a98ced2f563"
      },
      "execution_count": 81,
      "outputs": [
        {
          "output_type": "stream",
          "name": "stdout",
          "text": []
        }
      ]
    },
    {
      "cell_type": "markdown",
      "source": [
        "##Count()\n",
        "Este método irá contar quantas ocorrências temos de um determinado elemento.\n",
        "\n",
        "##len()\n",
        "Contar quantos elementos temos em uma lista.<br>\n",
        "Método para saber o comprimento de uma lista."
      ],
      "metadata": {
        "id": "WIHZ9v4xsaKU"
      }
    },
    {
      "cell_type": "code",
      "source": [
       
      ],
      "metadata": {
        "id": "yjGUWvOfrcYn"
      },
      "execution_count": null,
      "outputs": []
    },
    {
      "cell_type": "markdown",
      "source": [
        "## Para juntar mais de uma lista\n",
        "### Concatenação de listas\n",
        "União dos elementos de diversas listas\n",
        "\n",
        "---\n",
        "```\n",
        "lista1 =[1,2,3]\n",
        "lista2 =[4,5,6]\n",
        "lista3 = lista1 + lista2\n",
        "```\n",
        "---\n",
        "\n",
        "### Extend()\n",
        "Permite a inlcusão de mais de um elemento a uma lista\n",
        "\n",
        "---\n",
        "```\n",
        "lista1 =[1,2,3]\n",
        "lista2 =[4,5,6]\n",
        "lista1.extend(lista2)\n",
        "```\n",
        "---"
      ],
      "metadata": {
        "id": "-NkzSnqouHAx"
      }
    },
    {
      "cell_type": "code",
      "source": [
        
      ],
      "metadata": {
        "colab": {
          "base_uri": "https://localhost:8080/"
        },
        "id": "0o3VglyiuGJ5",
        "outputId": "a7682ce1-e4fb-4e7d-ca6c-237bd98e4c8f"
      },
      "execution_count": 36,
      "outputs": [
        {
          "output_type": "stream",
          "name": "stdout",
          "text": [
            
          ]
        }
      ]
    },
    {
      "cell_type": "code",
      "source": [
       
      ],
      "metadata": {
        "colab": {
          "base_uri": "https://localhost:8080/"
        },
        "id": "gXodpfkrsvDV",
        "outputId": "f4b02825-caeb-4059-f187-c1da67981d1d"
      },
      "execution_count": 38,
      "outputs": [
        {
          "output_type": "stream",
          "name": "stdout",
          "text": [
            
          ]
        }
      ]
    },
    {
      "cell_type": "markdown",
      "source": [
        "## Sort()\n",
        "Ordenamento da lista\n",
        "\n",
        "---\n",
        "```\n",
        "lista.sort() -> Ordem crescente\n",
        "lista.sort(reverse=True) -> Ordem Decrescente\n",
        "```\n",
        "---"
      ],
      "metadata": {
        "id": "Nuz0UJyPvJu0"
      }
    },
    {
      "cell_type": "code",
      "source": [
        
      ],
      "metadata": {
        "id": "a1M8smmivben"
      },
      "execution_count": null,
      "outputs": []
    },
    {
      "cell_type": "markdown",
      "source": [
        "##Tabela ASCII\n",
        "###ord\n",
        "Comando que converte um caractere em seu número de referência na tabela ASCII\n",
        "###chr\n",
        "converte um número intiro em seu caractere correspondente na tabela ASCII"
      ],
      "metadata": {
        "id": "kcLBnZWCwHOh"
      }
    },
    {
      "cell_type": "code",
      "source": [
     
      ],
      "metadata": {
        "id": "tcaOMNBKwGb2"
      },
      "execution_count": null,
      "outputs": []
    },
    {
      "cell_type": "markdown",
      "source": [
        "### Exercício 1:\n",
        "Criar uma lista com todas as letras minúsculas do alfabeto."
      ],
      "metadata": {
        "id": "1MAyyAzzxWRk"
      }
    },
    {
      "cell_type": "code",
      "source": [
        
      ],
      "metadata": {
        "id": "QQqixQV8xcdX"
      },
      "execution_count": null,
      "outputs": []
    },
    {
      "cell_type": "markdown",
      "source": [
        "### Exercício 2\n",
        "Transcrever a mensagem do usuário de letras para números."
      ],
      "metadata": {
        "id": "jd6okBrR18M1"
      }
    },
    {
      "cell_type": "code",
      "source": [
       
      ],
      "metadata": {
        "colab": {
          "base_uri": "https://localhost:8080/"
        },
        "id": "SenHcnpB1joM",
        "outputId": "060f42d7-3c5c-4cd7-e23d-7ca477f43ab7"
      },
      "execution_count": 65,
      "outputs": [
        {
          "output_type": "stream",
          "name": "stdout",
          "text": [

          ]
        }
      ]
    },
    {
      "cell_type": "markdown",
      "source": [
        "# SET\n",
        "Set é uma coleção de elementos sem repetição.<br>\n",
        "Para criar um set, podemos:<br>\n",
        "**IMPORTANTE:** O set é definido utilizando { }\n",
        "---\n",
        "```\n",
        "set_lista = set(lista)\n",
        "s = {1,2,2,3,3,3,3,3,5,5,8,8}\n",
        "print(s)\n",
        "type(s)\n",
        "```\n",
        "---\n"
      ],
      "metadata": {
        "id": "XK9QgePq8iXl"
      }
    },
    {
      "cell_type": "code",
      "source": [
        
      ],
      "metadata": {
        "id": "8LXo6POZ4JpL"
      },
      "execution_count": null,
      "outputs": []
    },
    {
      "cell_type": "markdown",
      "source": [
        "#Tupla\n",
        "Lista de elementos não iterável. ou seja, não é possível incluir ou excluir elementos dela.\n",
        "**IMPORTANTE:** Tupla é definida utilizando ( )\n",
        "\n",
        "---\n",
        "```\n",
        "tupla = (1,5,4,3,8)\n",
        "```\n",
        "---\n"
      ],
      "metadata": {
        "id": "YZ9UZTW79G0p"
      }
    },
    {
      "cell_type": "code",
      "source": [

      ],
      "metadata": {
        "id": "8l4b5GpGCGqc"
      },
      "execution_count": null,
      "outputs": []
    },
    {
      "cell_type": "code",
      "source": [

      ],
      "metadata": {
        "colab": {
          "base_uri": "https://localhost:8080/"
        },
        "id": "E4R91CltCm8C",
        "outputId": "01f00147-e2fd-498a-b785-c1e2916eccd1"
      },
      "execution_count": 96,
      "outputs": [
        {
          "output_type": "stream",
          "name": "stdout",
          "text": [

          ]
        }
      ]
    },
    {
      "cell_type": "markdown",
      "source": [
        "#Dicionário\n",
        "Conjunto de valores que utilizam o padrão de chave/valor.<br>\n",
        "**IMPORTANTE:** Definimos dicionários utilizando { }\n",
        "\n",
        "---\n",
        "```\n",
        "dicionario = {\n",
        "    'chave': 'valor',\n",
        "        1  :    2   ,\n",
        "    'joao' : True\n",
        "}\n",
        "```\n",
        "---"
      ],
      "metadata": {
        "id": "6exDw5lx9emB"
      }
    },
    {
      "cell_type": "code",
      "source": [
       
      ],
      "metadata": {
        "id": "x2O25QX39d5b"
      },
      "execution_count": null,
      "outputs": []
    },
    {
      "cell_type": "code",
      "source": [
        
      ],
      "metadata": {
        "id": "fi1KeY1VEZLj"
      },
      "execution_count": null,
      "outputs": []
    },
    {
      "cell_type": "code",
      "source": [
        
      ],
      "metadata": {
        "id": "Xer6Yr83JSwI"
      },
      "execution_count": null,
      "outputs": []
    }
  ]
}
