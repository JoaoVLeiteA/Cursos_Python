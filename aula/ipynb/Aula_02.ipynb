{
  "nbformat": 4,
  "nbformat_minor": 0,
  "metadata": {
    "colab": {
      "provenance": [],
      "collapsed_sections": []
    },
    "kernelspec": {
      "name": "python3",
      "display_name": "Python 3"
    },
    "language_info": {
      "name": "python"
    }
  },
  "cells": [
    {
      "cell_type": "markdown",
      "source": [
        "#SEGUNDA AULA DE PYTHON"
      ],
      "metadata": {
        "id": "G7CGKoIoKkK_"
      }
    },
    {
      "cell_type": "markdown",
      "source": [
        "##1 - Operadores Lógicos\n",
        "Diferente dos operadores aritméticos, os operadores lógicos retornam **True** 😀 ou **False** 😠 como resposta."
      ],
      "metadata": {
        "id": "R-eRS5qETtM0"
      }
    },
    {
      "cell_type": "markdown",
      "source": [
        "###Operadores Relacionais\n",
        "São aqueles que fazem a comparação entre dois ou mais valores. "
      ],
      "metadata": {
        "id": "Ush1OEj-GVx1"
      }
    },
    {
      "cell_type": "markdown",
      "source": [
        "####1. Operador de igualdade (==)\n"
      ],
      "metadata": {
        "id": "CBUQYbpUKspn"
      }
    },
    {
      "cell_type": "code",
      "execution_count": null,
      "metadata": {
        "id": "UpXYQhrjFFoi"
      },
      "outputs": [],
      "source": [
        "# Colocar 7 == 7, verificar a resposta na execussão do programa;\n",
        "\n",
        "# Colocar 7 == 5, verificar a resposta na execussão do programa;\n"
      ]
    },
    {
      "cell_type": "markdown",
      "source": [
        "####2. Operadores menor que (<) e maior que (>)\n"
      ],
      "metadata": {
        "id": "xWIysM8vK5P4"
      }
    },
    {
      "cell_type": "code",
      "source": [
        "# Colocar 7 < 7, verificar a resposta na execussão do programa;\n",
        "\n",
        "# Colocar 7 < 10, verificar a resposta na execussão do programa;\n",
        "\n",
        "# Colocar 7 > 7, verificar a resposta na execussão do programa;\n",
        "\n",
        "# Colocar 7 > 5, verificar a resposta na execussão do programa;\n"
      ],
      "metadata": {
        "id": "bQ7S58PvK5Z7"
      },
      "execution_count": null,
      "outputs": []
    },
    {
      "cell_type": "markdown",
      "source": [
        "####3. Operadores menor ou igual que (<) e maior ou igual que (>)"
      ],
      "metadata": {
        "id": "wylhZANYFaju"
      }
    },
    {
      "cell_type": "code",
      "source": [
        "# Colocar 7 <= 7, verificar a resposta na execussão do programa;\n",
        "\n",
        "# Colocar 7 <= 10, verificar a resposta na execussão do programa;\n",
        "\n",
        "# Colocar 7 >= 7, verificar a resposta na execussão do programa;\n",
        "\n",
        "# Colocar 7 >= 5, verificar a resposta na execussão do programa;\n"
      ],
      "metadata": {
        "id": "xlecvLJuFhPP"
      },
      "execution_count": null,
      "outputs": []
    },
    {
      "cell_type": "markdown",
      "source": [
        "####4. Operador de diferente (!=)"
      ],
      "metadata": {
        "id": "SyHAHxHFFqF_"
      }
    },
    {
      "cell_type": "code",
      "source": [
        "# Colocar 7 != 7, verificar a resposta na execussão do programa;\n",
        "\n",
        "# Colocar 7 != 5, verificar a resposta na execussão do programa;\n"
      ],
      "metadata": {
        "id": "LQpY9SAsFw3S"
      },
      "execution_count": null,
      "outputs": []
    },
    {
      "cell_type": "markdown",
      "source": [
        "##2 - Tabelas Verdade\n",
        "São tabelas que mostram algumas situações de entrada e suas saídas"
      ],
      "metadata": {
        "id": "_VQpZnb4NJy_"
      }
    },
    {
      "cell_type": "markdown",
      "source": [
        "####1. Tabela do E (AND)\n",
        "O operador **AND** deve ser usado quando temos 2 ou mais condições que devem ser verdadeiras para o programa executar a ação desejada\n"
      ],
      "metadata": {
        "id": "jr4afUM0NTqx"
      }
    },
    {
      "cell_type": "code",
      "source": [
        "print(\"|   A\\t|   B\\t| SAÍDA |\")\n",
        "print(\"|\",False,\"|\",False,\"|\",False and False,\"|\")\n",
        "print(\"|\",True,\"\\t|\",False,\"|\",True and False,\"|\")\n",
        "print(\"|\",False,\"|\",True,\"\\t|\",False and True,\"|\")\n",
        "print(\"|\",True,\"\\t|\",True,\"\\t|\",True and True,\"\\t|\")"
      ],
      "metadata": {
        "id": "VCCBr3Z3Lec1"
      },
      "execution_count": null,
      "outputs": []
    },
    {
      "cell_type": "code",
      "source": [
        "# EXEMPLO: Verificar se uma idade é maior do que a 17 E menor do que 71.\n",
        "\n",
        "idade = int(input(\"Idade: \"))\n",
        "print(idade > 17 and idade < 71)"
      ],
      "metadata": {
        "id": "eBgJPQ6LJ3Nu"
      },
      "execution_count": null,
      "outputs": []
    },
    {
      "cell_type": "markdown",
      "source": [
        "####2. Tabela do OU (OR)\n",
        "O operador **OR** deve ser usado quando, pelo menos, 1 das condições for verdadeira para realizar uma ação desejada"
      ],
      "metadata": {
        "id": "NOctwMQBQNEY"
      }
    },
    {
      "cell_type": "code",
      "source": [
        "print(\"|   A\\t|   B\\t| SAÍDA |\")\n",
        "print(\"|\",False,\"|\",False,\"|\",False or False,\"|\")\n",
        "print(\"|\",True,\"\\t|\",False,\"|\",True or False,\" |\")\n",
        "print(\"|\",False,\"|\",True,\"\\t|\",False or True,\" |\")\n",
        "print(\"|\",True,\"\\t|\",True,\"\\t|\",True or True,\" |\")"
      ],
      "metadata": {
        "id": "5588ahBYMKx4"
      },
      "execution_count": null,
      "outputs": []
    },
    {
      "cell_type": "code",
      "source": [
        "# EXEMPLO: Verificar se uma idade é menor do que a 18 OU maior do que 70.\n",
        "\n",
        "idade = int(input(\"Idade: \"))\n",
        "print(idade < 18 or idade > 70)"
      ],
      "metadata": {
        "id": "FUJN71L_KQUy"
      },
      "execution_count": null,
      "outputs": []
    },
    {
      "cell_type": "markdown",
      "source": [
        "####3. Tabela do XOR (^)"
      ],
      "metadata": {
        "id": "d6BwgLnYRUA7"
      }
    },
    {
      "cell_type": "code",
      "source": [
        "print(\"|   A\\t|   B\\t| SAÍDA |\")\n",
        "print(\"|\",False,\"|\",False,\"|\",False ^ False,\"|\")\n",
        "print(\"|\",True,\"\\t|\",False,\"|\",True ^ False,\"\\t|\")\n",
        "print(\"|\",False,\"|\",True,\"\\t|\",False ^ True,\"\\t|\")\n",
        "print(\"|\",True,\"\\t|\",True,\"\\t|\",True ^ True,\"|\")\n"
      ],
      "metadata": {
        "id": "hmfvJ7WARjB2"
      },
      "execution_count": null,
      "outputs": []
    },
    {
      "cell_type": "code",
      "source": [
        "# Reprodução de porcos\n",
        "# Coloque 0 para leitão e 1 para leitoa em uma lista\n"
      ],
      "metadata": {
        "id": "F9X27vYCZLvX"
      },
      "execution_count": null,
      "outputs": []
    },
    {
      "cell_type": "markdown",
      "source": [
        "####4. Tabela de Negação (not)"
      ],
      "metadata": {
        "id": "kFp7D9FTSb1f"
      }
    },
    {
      "cell_type": "code",
      "source": [
        "print(\"|   A\\t| Não A |\")\n",
        "print(\"|\",False,\"|\",not False,\"\\t|\")\n",
        "print(\"|\",True,\"\\t|\",not True,\"|\")"
      ],
      "metadata": {
        "id": "sUqxxe31ScVX"
      },
      "execution_count": null,
      "outputs": []
    },
    {
      "cell_type": "markdown",
      "source": [
        "##3 - Condicionais"
      ],
      "metadata": {
        "id": "t48ssv1ES12k"
      }
    },
    {
      "cell_type": "markdown",
      "source": [
        "#### Condição SE (IF)\n",
        "Usamos este tipo de condicional quando necessitamos que o programa teste algumas condições. Caso a condição seja verdadeira, o programa executará uma ação destinada àquela condição.\n",
        "\n",
        "```\n",
        "if condição 1:\n",
        "    bloco de códigos do if\n",
        "\n",
        "```\n",
        "Faz-se necessário que o código tenha esta estrutura, senão o Python apresentará erro de identação."
      ],
      "metadata": {
        "id": "sc0x1OLIblpK"
      }
    },
    {
      "cell_type": "code",
      "source": [
        "n = 3\n",
        "if n == 2:\n",
        "    print(\"{} igual a 2\".format(n))\n"
      ],
      "metadata": {
        "id": "F2gQQ0NzS7Xk"
      },
      "execution_count": null,
      "outputs": []
    },
    {
      "cell_type": "markdown",
      "source": [
        "#### Condição SENÃO (ELSE)\n",
        "Para usar o else, temos que ter usado o if antes.\n",
        "```\n",
        "if condição 1:\n",
        "    bloco de códigos do if\n",
        "    \n",
        "else:\n",
        "    bloco de código do else.\n",
        "    Aqui finaliza a condicional\n",
        "```"
      ],
      "metadata": {
        "id": "DsvIHQK0UDSU"
      }
    },
    {
      "cell_type": "code",
      "source": [
        "n = 3\n",
        "if n == 2:\n",
        "    print(\"{} igual a 2\".format(n))\n",
        "else:\n",
        "    print(\"{} diferente a 2\".format(n))"
      ],
      "metadata": {
        "id": "lYlvUcNZUFEE",
        "colab": {
          "base_uri": "https://localhost:8080/"
        },
        "outputId": "76e71b0d-84a6-4bd2-ad39-d51f9d552a53"
      },
      "execution_count": null,
      "outputs": [
        {
          "output_type": "stream",
          "name": "stdout",
          "text": [
            "3 diferente a 2\n"
          ]
        }
      ]
    },
    {
      "cell_type": "markdown",
      "source": [
        "#### Condição SENÃO SE (ELIF)\n",
        "O elif deve ser utilizado quando temos mais do que uma condição.\n",
        "\n",
        "\n",
        "```\n",
        "if condição 1:\n",
        "    bloco de códigos do if\n",
        "\n",
        "elif condição 2:\n",
        "    bloco de código do elif\n",
        "    \n",
        "else:\n",
        "    bloco de código do else.\n",
        "    Aqui finaliza a condicional\n",
        "```\n",
        "\n"
      ],
      "metadata": {
        "id": "qfeEXqNGUe1m"
      }
    },
    {
      "cell_type": "code",
      "source": [],
      "metadata": {
        "id": "vVRanrOAJv1S"
      },
      "execution_count": null,
      "outputs": []
    },
    {
      "cell_type": "markdown",
      "source": [
        "##4 - Exercícios"
      ],
      "metadata": {
        "id": "uD8VHCytkM8b"
      }
    },
    {
      "cell_type": "markdown",
      "source": [
        "###1 - Qual o maior.\n",
        "*Escreva um programa que recebe 2 valores e devolve o maior entre eles.*"
      ],
      "metadata": {
        "id": "13pbhHVMkRV6"
      }
    },
    {
      "cell_type": "code",
      "source": [
        "# Declaração da variável 1\n",
        "\n",
        "# Declaração da variável 2\n",
        "\n",
        "# Imprimir na tela mensagem: \"O X é maior do que o Y\"\n"
      ],
      "metadata": {
        "id": "-WWdWzpikPZA"
      },
      "execution_count": null,
      "outputs": []
    },
    {
      "cell_type": "markdown",
      "source": [
        "### 2 - Calculadora de preço da laranja.\n",
        "*Cada laranja custa R\\$ 0,3. Mas quando compradas acima de uma dúzia, seu valor cai para R\\$ 0,25 cada*"
      ],
      "metadata": {
        "id": "CNg2PQVQk4CI"
      }
    },
    {
      "cell_type": "code",
      "source": [
        "# Declarar a entrada da quantidade de laranjas a ser comprada\n",
        "\n",
        "# Declaração de if\n",
        "\n",
        "# Declaração else\n",
        "\n",
        "# Imprimir na tela a mensagem: \"x laranjas por Y reais totaliza: R$ Z\"\n"
      ],
      "metadata": {
        "id": "uuURP0ThlMu9"
      },
      "execution_count": null,
      "outputs": []
    },
    {
      "cell_type": "markdown",
      "source": [
        "###3 - Caluladora de Peso Ideal \n",
        "Fazer uma calculadora em que o usuário digita Altura em metros e Peso em quilos e se é do sexo biológico Masculino ou Feminino. O programa devolve ao usuário a informação qual seu peso ideal e quando precisa emagrecer para chegar lá. \n",
        "Ao final, o programa deve trazer uma frase motivadora para aqueles que estão acima do peso, frase parabenizando os que estão no peso ideal e uma outra frase de alerta aos que estão abaixo do peso.\n",
        "***Fórmulas***\n",
        "\n",
        "        >Masculino: (72.7 * Altura) - 50\n",
        "        >Feminino: (62.1 * Altura) - 44.7\n"
      ],
      "metadata": {
        "id": "9b10ty1Nl6Yh"
      }
    },
    {
      "cell_type": "code",
      "source": [
        "# Declarar a entrada da Altura\n",
        "\n",
        "# Declarar a entrada do Peso\n",
        "\n",
        "# Declarar a entrada do Sexo Biológico\n",
        "\n",
        "# Declaração de if para calcular peso ideal\n",
        "\n",
        "# Declaração de elif para calcular peso ideal\n",
        "\n",
        "# Declaração else\n",
        "\n",
        "# Calcular diferença entre peso ideal e peso atual\n",
        "\n",
        "# Declaração de if para acima do peso - A devolutiva para o usuário vem dentro do if\n",
        "\n",
        "# Declaração de elif para abaixo do peso - A devolutiva para o usuário vem dentro do elif\n",
        "\n",
        "# Declaração de else - A devolutiva para o usuário vem dentro do else\n"
      ],
      "metadata": {
        "id": "QuQ1WrpcnTVU"
      },
      "execution_count": null,
      "outputs": []
    },
    {
      "cell_type": "markdown",
      "source": [
        "###4 - É triangulo ou Não é triângulo?\n",
        "Para determinar se 3 segmentos de reta formam um triângulo, podemos fazer a verificação se a soma dos dois menores segmentos é maior do que o segmento maior.\n",
        "\n",
        "---\n",
        "    Segmentos: 2, 3 e 4\n",
        "    Soma dos dois menores: 2 + 3 = 5\n",
        "    Verificação: 5 > 4\n",
        "    Conclusão:Estes segmentos formam um triângulo\n",
        "---"
      ],
      "metadata": {
        "id": "C2hwNQwSn5VO"
      }
    },
    {
      "cell_type": "code",
      "source": [
        "# Declaração do primeiro segmento\n",
        "\n",
        "# Declaração do segundo segmento\n",
        "\n",
        "# Declaração do terceiro segmento\n",
        "\n",
        "# Neste if, usar AND para avaliaar se o 1º segmento é o menor\n",
        "\n",
        "# Neste elif, usar AND para avaliaar se o 2º segmento é o maior\n",
        "\n",
        "# Neste elif, usar AND para avaliar se o 3º segmento é o maior\n",
        "\n",
        "# Else para possíveis erros de digitação\n",
        "\n",
        "# Verificação se é triângulo e informar ao usuário."
      ],
      "metadata": {
        "id": "CSNpL6jToER_"
      },
      "execution_count": null,
      "outputs": []
    },
    {
      "cell_type": "markdown",
      "source": [
        "##Desafio\n",
        "Um posto de gasolina está vendendo combustíveis com a seguinte tabela de descontos:\n",
        "**Gasolina:**\n",
        ">Até 20 litros: desconto de 4% por litro<br>\n",
        ">Acima de 20 litros: desconto de 6% por litro<br>\n",
        "\n",
        "**Álcool:**\n",
        ">Até 20 litros: desconto de 3% por litro<br>\n",
        ">Acima de 20 litros: desconto de 5% por litro<br>\n",
        "\n",
        "Escreva um programa que leia o tipo de combustível (A - Álcool e G - Gasolina), calcule e imprima o valor a ser pago pelo cliente.\n",
        "\n",
        "---\n",
        "\n",
        "*PARA TORNAR O DESAFIO INTERESSANTE, VAMOS FAZER O PROGRAMA CRIAR UM NÚMERO ALEATÓRIO PARA O ABASTECIMENTO. ESTE NÚMERO DEVERÁ SER ENTRE 1 E 52*\n",
        "\n",
        "---"
      ],
      "metadata": {
        "id": "x3ptmqI_hhsE"
      }
    },
    {
      "cell_type": "code",
      "source": [],
      "metadata": {
        "id": "jWNQJFMmhmeX"
      },
      "execution_count": null,
      "outputs": []
    }
  ]
}
